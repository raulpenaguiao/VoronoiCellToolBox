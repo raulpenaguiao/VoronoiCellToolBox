{
 "cells": [
  {
   "cell_type": "markdown",
   "id": "d3eabcc7-6d6c-4e7a-a7aa-9683b18aec4d",
   "metadata": {},
   "source": [
    "We use the package to define the Voronoi cell of a specific lattice given by the matrix M"
   ]
  },
  {
   "cell_type": "code",
   "execution_count": 1,
   "id": "7e8e044c-4b60-4f14-a8aa-f1d1ab2c8a17",
   "metadata": {},
   "outputs": [
    {
     "data": {
      "image/png": "[encoded data removed]",
      "text/plain": [
       "A 2-dimensional polyhedron in QQ^2 defined as the convex hull of 6 vertices"
      ]
     },
     "execution_count": 1,
     "metadata": {},
     "output_type": "execute_result"
    }
   ],
   "source": [
    "from VoronoiCellToolBox.voronoi_cell import VCell\n",
    "VCell([[2, -1], [-1, 2]], range=2)"
   ]
  },
  {
   "cell_type": "markdown",
   "id": "5ab6ca10-a375-431e-93ec-cab158f57364",
   "metadata": {},
   "source": [
    "In this cell we test the function pos"
   ]
  },
  {
   "cell_type": "code",
   "execution_count": 2,
   "id": "741495b3-930a-4a56-bf94-11766e7c43db",
   "metadata": {},
   "outputs": [
    {
     "name": "stdout",
     "output_type": "stream",
     "text": [
      "FromMatrixPositionToListPosition(0, 1, 3) =  1\n",
      "FromMatrixPositionToListPosition(1, 2, 3) =  4\n",
      "FromMatrixPositionToListPosition(2, 2, 3) =  5\n"
     ]
    }
   ],
   "source": [
    "from VoronoiCellToolBox.voronoi_cell import FromMatrixPositionToListPosition\n",
    "print(\"FromMatrixPositionToListPosition(0, 1, 3) = \", FromMatrixPositionToListPosition(0, 1, 3))  # Returns 1\n",
    "print(\"FromMatrixPositionToListPosition(1, 2, 3) = \", FromMatrixPositionToListPosition(1, 2, 3))  # Returns 4\n",
    "print(\"FromMatrixPositionToListPosition(2, 2, 3) = \", FromMatrixPositionToListPosition(2, 2, 3))  # Returns 5"
   ]
  },
  {
   "cell_type": "markdown",
   "id": "f33c3be2-1fc0-4344-ac88-a68aaa8ccd09",
   "metadata": {},
   "source": [
    "Here we test the function `matrixify`\n",
    "Converts a list of upper triangular entries into a $d \\times d$ matrix."
   ]
  },
  {
   "cell_type": "code",
   "execution_count": 3,
   "id": "88ea410c-5684-4e04-a757-465c6ad041e3",
   "metadata": {},
   "outputs": [
    {
     "name": "stdout",
     "output_type": "stream",
     "text": [
      "matrixify([3, 1, 5, 3, -1, 2], 3) =  [[3, 1, 5], [1, 3, -1], [5, -1, 2]]\n"
     ]
    }
   ],
   "source": [
    "from VoronoiCellToolBox.voronoi_cell import matrixify\n",
    "print(\"matrixify([3, 1, 5, 3, -1, 2], 3) = \", matrixify([3, 1, 5, 3, -1, 2], 3)) #[3, 1, 5], [1, 3, -1], [5, -1, 2]]\n"
   ]
  },
  {
   "cell_type": "markdown",
   "id": "926f9bb3-93e6-42e3-b44d-7360a2f47e16",
   "metadata": {},
   "source": [
    "The following function finds the linear inequality that a matrix must satisfy in order for a particular potential relevant vector nonRelevantVectors to not be relevant due to the conditions imposed by the list of relevant vectors neighborVectors \n",
    "\n",
    "Computes the equation of the wall in the secondary cone."
   ]
  },
  {
   "cell_type": "code",
   "execution_count": 4,
   "id": "91170aee-4258-4fe3-9e0c-41f7302b4743",
   "metadata": {},
   "outputs": [
    {
     "data": {
      "text/plain": [
       "[2, 2, 2, 0, 0, 0]"
      ]
     },
     "execution_count": 4,
     "metadata": {},
     "output_type": "execute_result"
    }
   ],
   "source": [
    "from VoronoiCellToolBox.voronoi_cell import eq_of_wall\n",
    "rvecs = [(0, 1, 1), (1, 1, 1), (0, 0, 1)]\n",
    "nrvec = [-1, 0, 0]\n",
    "eq_of_wall(rvecs, nrvec, 3, False)"
   ]
  },
  {
   "cell_type": "markdown",
   "id": "83191b50-5649-4eee-bfdc-222710ef1167",
   "metadata": {},
   "source": [
    "The function reduce makes sure the Rational structures on our vectors are regularly updated to clear large denominators, bringing about an increase in performance"
   ]
  },
  {
   "cell_type": "code",
   "execution_count": 5,
   "id": "2f52f3e2-d3d4-47fb-8d53-1dfb7179cf0e",
   "metadata": {},
   "outputs": [
    {
     "data": {
      "text/plain": [
       "(155, 16, 1560)"
      ]
     },
     "execution_count": 5,
     "metadata": {},
     "output_type": "execute_result"
    }
   ],
   "source": [
    "from VoronoiCellToolBox.voronoi_cell import lcmReduce\n",
    "v = [31,3.2, 312]\n",
    "lcmReduce([Rational(int(round(vi*10**9)),int(10**9)) for vi in v])"
   ]
  },
  {
   "cell_type": "markdown",
   "id": "22771662-0482-4085-9451-dd9d9fd54342",
   "metadata": {},
   "source": [
    "The function gcdReduce makes sure the Integer structures on our vectors are regularly updated to clear large denominators, bringing about an increase in performance"
   ]
  },
  {
   "cell_type": "code",
   "execution_count": 6,
   "id": "02632eac-78a9-4f62-9bf6-b02bc5c4974e",
   "metadata": {},
   "outputs": [
    {
     "data": {
      "text/plain": [
       "[6, 12, 17]"
      ]
     },
     "execution_count": 6,
     "metadata": {},
     "output_type": "execute_result"
    }
   ],
   "source": [
    "from VoronoiCellToolBox.voronoi_cell import gcdReduce\n",
    "gcdReduce([12, 24, 34])"
   ]
  },
  {
   "cell_type": "markdown",
   "id": "ff36b959-7f4c-4bc2-bfb3-e1af5869027d",
   "metadata": {},
   "source": [
    "The function gcd and GCD_list implement the Euclidean algorithm to compute the greatest common divisor of two integers or a list of integers\n"
   ]
  },
  {
   "cell_type": "code",
   "execution_count": 7,
   "id": "b1e91d0c-5991-4bbc-bef7-7a13c51e08f4",
   "metadata": {},
   "outputs": [
    {
     "name": "stdout",
     "output_type": "stream",
     "text": [
      "gcd(48, 18) =  6\n",
      "GCD_list([102, 304, 54, 80]) =  2\n"
     ]
    }
   ],
   "source": [
    "from VoronoiCellToolBox.voronoi_cell import gcd, GCD_list\n",
    "print(\"gcd(48, 18) = \", gcd(48, 18))\n",
    "print(\"GCD_list([102, 304, 54, 80]) = \", GCD_list([102, 304, 54, 80]))"
   ]
  },
  {
   "cell_type": "markdown",
   "id": "9990c430-33d0-4f92-8fa3-a78270f37556",
   "metadata": {},
   "source": [
    "For a facet F of the voronoi cell V, this function computes the corresponding relevant vector."
   ]
  },
  {
   "cell_type": "code",
   "execution_count": 8,
   "id": "695ebb48-9512-4943-880a-89ccfb2f5eda",
   "metadata": {},
   "outputs": [
    {
     "name": "stdout",
     "output_type": "stream",
     "text": [
      "(A vertex at (-1/3, -2/3), A vertex at (1/3, -1/3))  -  (0, -1)\n",
      "(A vertex at (2/3, 1/3), A vertex at (1/3, 2/3))  -  (1, 1)\n",
      "(A vertex at (1/3, 2/3), A vertex at (-1/3, 1/3))  -  (0, 1)\n",
      "(A vertex at (2/3, 1/3), A vertex at (1/3, -1/3))  -  (1, 0)\n",
      "(A vertex at (-1/3, -2/3), A vertex at (-2/3, -1/3))  -  (-1, -1)\n",
      "(A vertex at (-1/3, 1/3), A vertex at (-2/3, -1/3))  -  (-1, 0)\n"
     ]
    }
   ],
   "source": [
    "from VoronoiCellToolBox.voronoi_cell import relevant_vector, VCell\n",
    "#The following code prints the relevant vectors of each facet for d = 2\n",
    "Q = [[2, -1], [-1, 2]]\n",
    "VC = VCell(Q, range = 2)\n",
    "list_facets = VC.facets()\n",
    "for F in list_facets:\n",
    "    print(F.vertices(), \" - \", relevant_vector(Q, F))"
   ]
  },
  {
   "cell_type": "markdown",
   "id": "387a5e6d",
   "metadata": {},
   "source": [
    "For a metric matrix $Q$ we can compute the norm of any vector in $Z^d$ with the function $Qnorm(v, Q) = v^T Q v$."
   ]
  },
  {
   "cell_type": "code",
   "execution_count": 9,
   "id": "21a9d2c8",
   "metadata": {},
   "outputs": [
    {
     "data": {
      "text/plain": [
       "5"
      ]
     },
     "execution_count": 9,
     "metadata": {},
     "output_type": "execute_result"
    }
   ],
   "source": [
    "from VoronoiCellToolBox.voronoi_cell import Qform\n",
    "Qform([1, 2], [[1, 0], [0, 1]]) #Returns 5"
   ]
  },
  {
   "cell_type": "markdown",
   "id": "6b2728d5-3fc6-47db-80f0-578b4d12e242",
   "metadata": {},
   "source": [
    "For a metric matrix $Q$ we can compute the point that is equidistant to a collection of other points"
   ]
  },
  {
   "cell_type": "code",
   "execution_count": 10,
   "id": "5bb26851-e82d-47f9-a669-c201c1a13b75",
   "metadata": {},
   "outputs": [
    {
     "data": {
      "text/plain": [
       "(1, 1)"
      ]
     },
     "execution_count": 10,
     "metadata": {},
     "output_type": "execute_result"
    }
   ],
   "source": [
    "from VoronoiCellToolBox.voronoi_cell import equidistantPoint\n",
    "equidistantPoint([vector([1, 0]), vector([0, 1])], Matrix([[2, -1], [-1, 2]])) #Returns [1, 1]"
   ]
  },
  {
   "cell_type": "markdown",
   "id": "61fd564d-d6ab-4337-8b65-0840870fcb1e",
   "metadata": {},
   "source": [
    "Computes a dictionary, exposing the relevant vectors associated with each vertex of P.\n",
    "relevantVectorDictionary(P, Q)For each vertex v, the relevant vector relative to each facet incident to v is computed."
   ]
  },
  {
   "cell_type": "code",
   "execution_count": 11,
   "id": "122463af-5ca1-4a98-a065-bdf42841ec66",
   "metadata": {},
   "outputs": [
    {
     "data": {
      "text/plain": [
       "24"
      ]
     },
     "execution_count": 11,
     "metadata": {},
     "output_type": "execute_result"
    }
   ],
   "source": [
    "from VoronoiCellToolBox.voronoi_cell import VCell, relevantVectorDictionary\n",
    "\n",
    "Q = [[3, -1, -1], [-1, 3, -1], [-1, -1, 3]]\n",
    "P = VCell(Q, range = 2)\n",
    "len(relevantVectorDictionary(P, Q))# Returns 24"
   ]
  },
  {
   "cell_type": "markdown",
   "id": "28b58c47-0e22-4f0c-82fc-dd629b66e99a",
   "metadata": {},
   "source": [
    "The function secondary_cone computes a Polyhedron type object that describes all matrices Q' whose Voronoi cell has the same relevant vector structure as Q "
   ]
  },
  {
   "cell_type": "code",
   "execution_count": 12,
   "id": "f1d3e2f8-4bdd-4092-8691-2b7a4364cac0",
   "metadata": {},
   "outputs": [
    {
     "data": {
      "text/plain": [
       "[(1, -1, 0, 1, 0, 0),\n",
       " (1, 0, -1, 0, 0, 1),\n",
       " (0, 0, 0, 1, -1, 1),\n",
       " (0, 0, 0, 0, 0, 1),\n",
       " (0, 0, 0, 1, 0, 0),\n",
       " (1, 0, 0, 0, 0, 0)]"
      ]
     },
     "execution_count": 12,
     "metadata": {},
     "output_type": "execute_result"
    }
   ],
   "source": [
    "from VoronoiCellToolBox.voronoi_cell import secondary_cone, rayify\n",
    "import itertools\n",
    "Q = [[3, -1, -1], [-1, 3, -1], [-1, -1, 3]]\n",
    "prv = [list(vec) for vec in itertools.product(range(-2, 3), repeat=3)]\n",
    "prv.remove([0] * 3)\n",
    "SC = secondary_cone(Q, range = 2)\n",
    "rayify(SC)"
   ]
  },
  {
   "cell_type": "markdown",
   "id": "9bf8f094-6c7d-41d0-aaab-3370bdafc98c",
   "metadata": {},
   "source": [
    "We also implement the pulling triangulation here"
   ]
  },
  {
   "cell_type": "code",
   "execution_count": 13,
   "id": "d7f9cbfa-b1bf-424e-9f29-8160caf18195",
   "metadata": {},
   "outputs": [
    {
     "data": {
      "text/plain": [
       "34"
      ]
     },
     "execution_count": 13,
     "metadata": {},
     "output_type": "execute_result"
    }
   ],
   "source": [
    "from VoronoiCellToolBox.voronoi_cell import VCell, pulling_triangulation\n",
    "Q = [[3, -1, -1], [-1, 3, -1], [-1, -1, 3]]\n",
    "P = VCell(Q, range=2)\n",
    "len(pulling_triangulation(P))"
   ]
  },
  {
   "cell_type": "markdown",
   "id": "f57e3ebb-3b1c-4ac9-a310-63a698f7dc0e",
   "metadata": {},
   "source": [
    "The pulling triangulation will be handed off to Macaulay2 in order to compute the second moment polynomial expression with respect to the entries of $Q$"
   ]
  },
  {
   "cell_type": "markdown",
   "id": "f977dc96-ec2f-4ab0-a665-8ee0d4f270af",
   "metadata": {},
   "source": [
    "Delaunay polytope corresponding to each vertex"
   ]
  },
  {
   "cell_type": "code",
   "execution_count": 14,
   "id": "3eaad4e4-bc61-42ae-be7c-212366ec51e3",
   "metadata": {},
   "outputs": [
    {
     "data": {
      "text/plain": [
       "24"
      ]
     },
     "execution_count": 14,
     "metadata": {},
     "output_type": "execute_result"
    }
   ],
   "source": [
    "from VoronoiCellToolBox.voronoi_cell import VCell, Delsets\n",
    "Q = [[3, -1, -1], [-1, 3, -1], [-1, -1, 3]]\n",
    "VC = VCell(Q, range=2)\n",
    "len(Delsets(VC, Q, range=2))"
   ]
  },
  {
   "cell_type": "markdown",
   "id": "3683658e-ff4a-4187-b7f9-c5578562c084",
   "metadata": {},
   "source": [
    "Overlays a Delaunay polytope with the Voronoi cell"
   ]
  },
  {
   "cell_type": "code",
   "execution_count": 15,
   "id": "5a6725cc-964b-458a-817f-53bafbd142bd",
   "metadata": {},
   "outputs": [
    {
     "data": {
      "text/html": [
       "\n",
       "<iframe srcdoc=\"&lt;!DOCTYPE html&gt;\n",
       "&lt;html&gt;\n",
       "&lt;head&gt;\n",
       "&lt;title&gt;&lt;/title&gt;\n",
       "&lt;meta charset=&quot;utf-8&quot;&gt;\n",
       "&lt;meta name=viewport content=&quot;width=device-width, user-scalable=no, minimum-scale=1.0, maximum-scale=1.0&quot;&gt;\n",
       "&lt;style&gt;\n",
       "\n",
       "    body { margin: 0px; overflow: hidden; }\n",
       "\n",
       "    #menu-container { position: absolute; bottom: 30px; right: 40px; cursor: default; }\n",
       "\n",
       "    #menu-message { position: absolute; bottom: 0px; right: 0px; white-space: nowrap;\n",
       "                    display: none; background-color: #F5F5F5; padding: 10px; }\n",
       "\n",
       "    #menu-content { position: absolute; bottom: 0px; right: 0px;\n",
       "                    display: none; background-color: #F5F5F5; border-bottom: 1px solid black;\n",
       "                    border-right: 1px solid black; border-left: 1px solid black; }\n",
       "\n",
       "    #menu-content div { border-top: 1px solid black; padding: 10px; white-space: nowrap; }\n",
       "\n",
       "    #menu-content div:hover { background-color: #FEFEFE; }\n",
       "\n",
       "    .dark-theme #menu-container { color: white; }\n",
       "\n",
       "    .dark-theme #menu-message { background-color: #181818; }\n",
       "\n",
       "    .dark-theme #menu-content { background-color: #181818; border-color: white; }\n",
       "\n",
       "    .dark-theme #menu-content div { border-color: white; }\n",
       "\n",
       "    .dark-theme #menu-content div:hover { background-color: #303030; }\n",
       "\n",
       "&lt;/style&gt;\n",
       "\n",
       "&lt;/head&gt;\n",
       "\n",
       "&lt;body&gt;\n",
       "\n",
       "&lt;script src=&quot;/nbextensions/threejs-sage/r122/three.min.js&quot;&gt;&lt;/script&gt;\n",
       "&lt;script&gt;\n",
       "  if ( !window.THREE ) document.write(&#x27; \\\n",
       "&lt;script src=&quot;https://cdn.jsdelivr.net/gh/sagemath/threejs-sage@r122/build/three.min.js&quot;&gt;&lt;\\/script&gt; \\\n",
       "            &#x27;);\n",
       "&lt;/script&gt;\n",
       "        \n",
       "&lt;script&gt;\n",
       "\n",
       "    var options = {&quot;animate&quot;: false, &quot;animationControls&quot;: true, &quot;aspectRatio&quot;: [1.0, 1.0, 1.0], &quot;autoScaling&quot;: [false, false, false], &quot;autoPlay&quot;: true, &quot;axes&quot;: false, &quot;axesLabels&quot;: [&quot;x&quot;, &quot;y&quot;, &quot;z&quot;], &quot;axesLabelsStyle&quot;: null, &quot;decimals&quot;: 2, &quot;delay&quot;: 20, &quot;frame&quot;: true, &quot;loop&quot;: true, &quot;projection&quot;: &quot;perspective&quot;, &quot;theme&quot;: &quot;light&quot;, &quot;viewpoint&quot;: false};\n",
       "    var animate = options.animate;\n",
       "\n",
       "    if ( options.theme === &#x27;dark&#x27; )\n",
       "        document.body.className = &#x27;dark-theme&#x27;;\n",
       "\n",
       "    var scene = new THREE.Scene();\n",
       "\n",
       "    var renderer = new THREE.WebGLRenderer( { antialias: true, preserveDrawingBuffer: true } );\n",
       "    renderer.setPixelRatio( window.devicePixelRatio );\n",
       "    renderer.setSize( window.innerWidth, window.innerHeight );\n",
       "    renderer.setClearColor( options.theme === &#x27;dark&#x27; ? 0 : 0xffffff, 1 );\n",
       "    document.body.appendChild( renderer.domElement );\n",
       "\n",
       "    var b = [{&quot;x&quot;:-1.0, &quot;y&quot;:-0.75, &quot;z&quot;:-0.75}, {&quot;x&quot;:0.75, &quot;y&quot;:1.0, &quot;z&quot;:1.0}]; // bounds\n",
       "\n",
       "    if ( b[0].x === b[1].x ) {\n",
       "        b[0].x -= 1;\n",
       "        b[1].x += 1;\n",
       "    }\n",
       "    if ( b[0].y === b[1].y ) {\n",
       "        b[0].y -= 1;\n",
       "        b[1].y += 1;\n",
       "    }\n",
       "    if ( b[0].z === b[1].z ) {\n",
       "        b[0].z -= 1;\n",
       "        b[1].z += 1;\n",
       "    }\n",
       "\n",
       "    var rxRange = Math.sqrt( Math.pow( b[1].z - b[0].z, 2 )\n",
       "                            + Math.pow( b[1].y - b[0].y, 2 ) );\n",
       "    var ryRange = Math.sqrt( Math.pow( b[1].x - b[0].x, 2 )\n",
       "                            + Math.pow( b[1].z - b[0].z, 2 ) );\n",
       "    var rzRange = Math.sqrt( Math.pow( b[1].x - b[0].x, 2 )\n",
       "                            + Math.pow( b[1].y - b[0].y, 2 ) );\n",
       "    var xRange = b[1].x - b[0].x;\n",
       "    var yRange = b[1].y - b[0].y;\n",
       "    var zRange = b[1].z - b[0].z;\n",
       "\n",
       "    var ar = options.aspectRatio;\n",
       "    var a = [ ar[0], ar[1], ar[2] ]; // aspect multipliers\n",
       "\n",
       "    var autoScaling = options.autoScaling;\n",
       "    var autoAspect = 2.5;\n",
       "    if ( xRange &gt; autoAspect * rxRange &amp;&amp; autoScaling[0] ) a[0] = autoAspect * rxRange / xRange;\n",
       "    if ( yRange &gt; autoAspect * ryRange &amp;&amp; autoScaling[1] ) a[1] = autoAspect * ryRange / yRange;\n",
       "    if ( zRange &gt; autoAspect * rzRange &amp;&amp; autoScaling[2] ) a[2] = autoAspect * rzRange / zRange;\n",
       "\n",
       "    // Distance from (xMid,yMid,zMid) to any corner of the bounding box, after applying aspectRatio\n",
       "    var midToCorner = Math.sqrt( a[0]*a[0]*xRange*xRange + a[1]*a[1]*yRange*yRange + a[2]*a[2]*zRange*zRange ) / 2;\n",
       "\n",
       "    var xMid = ( b[0].x + b[1].x ) / 2;\n",
       "    var yMid = ( b[0].y + b[1].y ) / 2;\n",
       "    var zMid = ( b[0].z + b[1].z ) / 2;\n",
       "\n",
       "    var box = new THREE.Geometry();\n",
       "    box.vertices.push( new THREE.Vector3( a[0]*b[0].x, a[1]*b[0].y, a[2]*b[0].z ) );\n",
       "    box.vertices.push( new THREE.Vector3( a[0]*b[1].x, a[1]*b[1].y, a[2]*b[1].z ) );\n",
       "    var boxMesh = new THREE.Line( box );\n",
       "    var boxColor = options.theme === &#x27;dark&#x27; ? &#x27;white&#x27; : &#x27;black&#x27;;\n",
       "    if ( options.frame ) scene.add( new THREE.BoxHelper( boxMesh, boxColor ) );\n",
       "\n",
       "    if ( options.axesLabels ) {\n",
       "\n",
       "        var d = options.decimals; // decimals\n",
       "        var offsetRatio = 0.1;\n",
       "        var al = options.axesLabels;\n",
       "        var als = options.axesLabelsStyle || [{}, {}, {}];\n",
       "\n",
       "        var offset = offsetRatio * a[1]*( b[1].y - b[0].y );\n",
       "        var xm = xMid.toFixed(d);\n",
       "        if ( /^-0.?0*$/.test(xm) ) xm = xm.substr(1);\n",
       "        addLabel( al[0] + &#x27;=&#x27; + xm, a[0]*xMid, a[1]*b[1].y+offset, a[2]*b[0].z, als[0] );\n",
       "        addLabel( ( b[0].x ).toFixed(d), a[0]*b[0].x, a[1]*b[1].y+offset, a[2]*b[0].z, als[0] );\n",
       "        addLabel( ( b[1].x ).toFixed(d), a[0]*b[1].x, a[1]*b[1].y+offset, a[2]*b[0].z, als[0] );\n",
       "\n",
       "        var offset = offsetRatio * a[0]*( b[1].x - b[0].x );\n",
       "        var ym = yMid.toFixed(d);\n",
       "        if ( /^-0.?0*$/.test(ym) ) ym = ym.substr(1);\n",
       "        addLabel( al[1] + &#x27;=&#x27; + ym, a[0]*b[1].x+offset, a[1]*yMid, a[2]*b[0].z, als[1] );\n",
       "        addLabel( ( b[0].y ).toFixed(d), a[0]*b[1].x+offset, a[1]*b[0].y, a[2]*b[0].z, als[1] );\n",
       "        addLabel( ( b[1].y ).toFixed(d), a[0]*b[1].x+offset, a[1]*b[1].y, a[2]*b[0].z, als[1] );\n",
       "\n",
       "        var offset = offsetRatio * a[1]*( b[1].y - b[0].y );\n",
       "        var zm = zMid.toFixed(d);\n",
       "        if ( /^-0.?0*$/.test(zm) ) zm = zm.substr(1);\n",
       "        addLabel( al[2] + &#x27;=&#x27; + zm, a[0]*b[1].x, a[1]*b[0].y-offset, a[2]*zMid, als[2] );\n",
       "        addLabel( ( b[0].z ).toFixed(d), a[0]*b[1].x, a[1]*b[0].y-offset, a[2]*b[0].z, als[2] );\n",
       "        addLabel( ( b[1].z ).toFixed(d), a[0]*b[1].x, a[1]*b[0].y-offset, a[2]*b[1].z, als[2] );\n",
       "\n",
       "    }\n",
       "\n",
       "    function addLabel( text, x, y, z, style ) {\n",
       "\n",
       "        var color = style.color || &#x27;black&#x27;;\n",
       "        var fontSize = style.fontSize || 14;\n",
       "        var fontFamily = style.fontFamily || &#x27;monospace&#x27;;\n",
       "        var fontStyle = style.fontStyle || &#x27;normal&#x27;;\n",
       "        var fontWeight = style.fontWeight || &#x27;normal&#x27;;\n",
       "        var opacity = style.opacity || 1;\n",
       "\n",
       "        if ( options.theme === &#x27;dark&#x27; )\n",
       "            if ( color === &#x27;black&#x27; || color === &#x27;#000000&#x27; )\n",
       "                color = &#x27;white&#x27;;\n",
       "\n",
       "        if ( Array.isArray( fontStyle ) ) {\n",
       "            fontFamily = fontFamily.map( function( f ) {\n",
       "                // Need to put quotes around fonts that have whitespace in their names.\n",
       "                return /\\s/.test( f ) ? &#x27;&quot;&#x27; + f + &#x27;&quot;&#x27; : f;\n",
       "            }).join(&#x27;, &#x27;);\n",
       "        }\n",
       "\n",
       "        var canvas = document.createElement( &#x27;canvas&#x27; );\n",
       "        var context = canvas.getContext( &#x27;2d&#x27; );\n",
       "        var pixelRatio = Math.round( window.devicePixelRatio );\n",
       "\n",
       "        // For example: italic bold 20px &quot;Times New Roman&quot;, Georgia, serif\n",
       "        var font = [fontStyle, fontWeight, fontSize + &#x27;px&#x27;, fontFamily].join(&#x27; &#x27;);\n",
       "\n",
       "        context.font = font;\n",
       "        var width = context.measureText( text ).width;\n",
       "        var height = fontSize;\n",
       "\n",
       "        // The dimensions of the canvas&#x27;s underlying image data need to be powers\n",
       "        // of two in order for the resulting texture to support mipmapping.\n",
       "        canvas.width = THREE.MathUtils.ceilPowerOfTwo( width * pixelRatio );\n",
       "        canvas.height = THREE.MathUtils.ceilPowerOfTwo( height * pixelRatio );\n",
       "\n",
       "        // Re-compute the unscaled dimensions after the power of two conversion.\n",
       "        width = canvas.width / pixelRatio;\n",
       "        height = canvas.height / pixelRatio;\n",
       "\n",
       "        canvas.style.width = width + &#x27;px&#x27;;\n",
       "        canvas.style.height = height + &#x27;px&#x27;;\n",
       "\n",
       "        context.scale( pixelRatio, pixelRatio );\n",
       "        context.fillStyle = color;\n",
       "        context.font = font; // Must be set again after measureText.\n",
       "        context.textAlign = &#x27;center&#x27;;\n",
       "        context.textBaseline = &#x27;middle&#x27;;\n",
       "        context.fillText( text, width/2, height/2 );\n",
       "\n",
       "        var texture = new THREE.Texture( canvas );\n",
       "        texture.needsUpdate = true;\n",
       "\n",
       "        var materialOptions = { map: texture, sizeAttenuation: false, depthWrite: false };\n",
       "        if ( opacity &lt; 1 ) {\n",
       "            // Setting opacity=1 would cause the texture&#x27;s alpha component to be\n",
       "            // discarded, giving the text a black background instead of the\n",
       "            // background being transparent.\n",
       "            materialOptions.opacity = opacity;\n",
       "        }\n",
       "        var sprite = new THREE.Sprite( new THREE.SpriteMaterial( materialOptions ) );\n",
       "        sprite.position.set( x, y, z );\n",
       "\n",
       "        // Scaling factor, chosen somewhat arbitrarily so that the size of the text\n",
       "        // is consistent with previously generated plots.\n",
       "        var scale = 1/625;\n",
       "        if ( options.projection === &#x27;orthographic&#x27; ) {\n",
       "            scale = midToCorner/256; // Needs to scale along with the plot itself.\n",
       "        }\n",
       "        sprite.scale.set( scale * width, scale * height, 1 );\n",
       "\n",
       "        scene.add( sprite );\n",
       "\n",
       "        return sprite;\n",
       "\n",
       "    }\n",
       "\n",
       "    if ( options.axes ) scene.add( new THREE.AxesHelper( Math.min( a[0]*b[1].x, a[1]*b[1].y, a[2]*b[1].z ) ) );\n",
       "\n",
       "    var camera = createCamera();\n",
       "    camera.up.set( 0, 0, 1 );\n",
       "    camera.position.set( a[0]*xMid, a[1]*yMid, a[2]*zMid );\n",
       "\n",
       "    // camera is positioned so that the line from the camera to the center\n",
       "    // of the bounding sphere of the objects makes an angle of 60 degrees with x-axis\n",
       "    // and an angle of 30 degrees with z-axis and the field of view of the camera looking\n",
       "    // at the center has an angle of 45 degrees.\n",
       "    const sin8 = Math.sin(Math.PI / 8);\n",
       "    const sin5 = Math.sin(Math.PI / 5);\n",
       "    const cos5 = Math.cos(Math.PI / 5);\n",
       "    const sin3 = Math.sin(Math.PI / 3);\n",
       "    const cos3 = Math.cos(Math.PI / 3);\n",
       "    var r = midToCorner / sin8;\n",
       "    var offset = new THREE.Vector3( r * sin3 * cos5, r * sin3 * sin5, r * cos3 );\n",
       "\n",
       "    if ( options.viewpoint ) {\n",
       "\n",
       "        var aa = options.viewpoint;\n",
       "        var axis = new THREE.Vector3( aa[0][0], aa[0][1], aa[0][2] ).normalize();\n",
       "        var angle = aa[1] * Math.PI / 180;\n",
       "        var q = new THREE.Quaternion().setFromAxisAngle( axis, angle ).inverse();\n",
       "\n",
       "        offset.set( 0, 0, offset.length() );\n",
       "        offset.applyQuaternion( q );\n",
       "\n",
       "    }\n",
       "\n",
       "    camera.position.add( offset );\n",
       "\n",
       "    function createCamera() {\n",
       "\n",
       "        var aspect = window.innerWidth / window.innerHeight;\n",
       "\n",
       "        // Scale the near and far clipping planes along with the overall plot size.\n",
       "        var nearClip = 0.01 * midToCorner;\n",
       "        var farClip = 100 * midToCorner;\n",
       "\n",
       "        if ( options.projection === &#x27;orthographic&#x27; ) {\n",
       "            var camera = new THREE.OrthographicCamera( -1, 1, 1, -1, -farClip, farClip );\n",
       "            updateCameraAspect( camera, aspect );\n",
       "            return camera;\n",
       "        }\n",
       "\n",
       "        return new THREE.PerspectiveCamera( 45, aspect, nearClip, farClip );\n",
       "\n",
       "    }\n",
       "\n",
       "    function updateCameraAspect( camera, aspect ) {\n",
       "\n",
       "        if ( camera.isPerspectiveCamera ) {\n",
       "            camera.aspect = aspect;\n",
       "        } else if ( camera.isOrthographicCamera ) {\n",
       "            // Fit the camera frustum to the bounding box&#x27;s diagonal so that the entire plot fits\n",
       "            // within at the default zoom level and camera position.\n",
       "            if ( aspect &gt; 1 ) { // Wide window\n",
       "                camera.top = midToCorner;\n",
       "                camera.right = midToCorner * aspect;\n",
       "            } else { // Tall or square window\n",
       "                camera.top = midToCorner / aspect;\n",
       "                camera.right = midToCorner;\n",
       "            }\n",
       "            camera.bottom = -camera.top;\n",
       "            camera.left = -camera.right;\n",
       "        }\n",
       "\n",
       "        camera.updateProjectionMatrix();\n",
       "\n",
       "    }\n",
       "\n",
       "    var lights = [{&quot;x&quot;:-5, &quot;y&quot;:3, &quot;z&quot;:0, &quot;color&quot;:&quot;#7f7f7f&quot;, &quot;parent&quot;:&quot;camera&quot;}];\n",
       "    for ( var i=0 ; i &lt; lights.length ; i++ ) {\n",
       "        var light = new THREE.DirectionalLight( lights[i].color, 1 );\n",
       "        light.position.set( a[0]*lights[i].x, a[1]*lights[i].y, a[2]*lights[i].z );\n",
       "        if ( lights[i].parent === &#x27;camera&#x27; ) {\n",
       "            light.target.position.set( a[0]*xMid, a[1]*yMid, a[2]*zMid );\n",
       "            scene.add( light.target );\n",
       "            camera.add( light );\n",
       "        } else scene.add( light );\n",
       "    }\n",
       "    scene.add( camera );\n",
       "\n",
       "    var ambient = {&quot;color&quot;:&quot;#7f7f7f&quot;};\n",
       "    scene.add( new THREE.AmbientLight( ambient.color, 1 ) );\n",
       "\n",
       "    var controls = new THREE.OrbitControls( camera, renderer.domElement );\n",
       "    controls.target.set( a[0]*xMid, a[1]*yMid, a[2]*zMid );\n",
       "    controls.addEventListener( &#x27;change&#x27;, function() { if ( !animate ) render(); } );\n",
       "\n",
       "    window.addEventListener( &#x27;resize&#x27;, function() {\n",
       "\n",
       "        renderer.setSize( window.innerWidth, window.innerHeight );\n",
       "        updateCameraAspect( camera, window.innerWidth / window.innerHeight );\n",
       "        if ( window.rescaleFatLines ) rescaleFatLines();\n",
       "        if ( !animate ) render();\n",
       "\n",
       "    } );\n",
       "\n",
       "    var texts = [];\n",
       "    for ( var i=0 ; i &lt; texts.length ; i++ ) addText( texts[i] );\n",
       "\n",
       "    function addText( json ) {\n",
       "        var sprite = addLabel( json.text, a[0]*json.x, a[1]*json.y, a[2]*json.z, json );\n",
       "        sprite.userData = json;\n",
       "    }\n",
       "\n",
       "    var points = [{&quot;point&quot;: [-0.5, -0.5, 0.5], &quot;size&quot;: 10.0, &quot;color&quot;: &quot;#ff0000&quot;, &quot;opacity&quot;: 0.5}, {&quot;point&quot;: [-0.5, 0.5, -0.5], &quot;size&quot;: 10.0, &quot;color&quot;: &quot;#ff0000&quot;, &quot;opacity&quot;: 0.5}, {&quot;point&quot;: [0.25, -0.75, 0.25], &quot;size&quot;: 10.0, &quot;color&quot;: &quot;#ff0000&quot;, &quot;opacity&quot;: 0.5}, {&quot;point&quot;: [0.5, -0.5, -0.5], &quot;size&quot;: 10.0, &quot;color&quot;: &quot;#ff0000&quot;, &quot;opacity&quot;: 0.5}, {&quot;point&quot;: [0.5, 0.5, -0.5], &quot;size&quot;: 10.0, &quot;color&quot;: &quot;#ff0000&quot;, &quot;opacity&quot;: 0.5}, {&quot;point&quot;: [0.5, -0.5, 0.5], &quot;size&quot;: 10.0, &quot;color&quot;: &quot;#ff0000&quot;, &quot;opacity&quot;: 0.5}, {&quot;point&quot;: [0.25, 0.25, -0.75], &quot;size&quot;: 10.0, &quot;color&quot;: &quot;#ff0000&quot;, &quot;opacity&quot;: 0.5}, {&quot;point&quot;: [0.25, 0.25, 0.25], &quot;size&quot;: 10.0, &quot;color&quot;: &quot;#ff0000&quot;, &quot;opacity&quot;: 0.5}, {&quot;point&quot;: [-0.5, 0.5, 0.5], &quot;size&quot;: 10.0, &quot;color&quot;: &quot;#ff0000&quot;, &quot;opacity&quot;: 0.5}, {&quot;point&quot;: [-0.25, -0.25, 0.75], &quot;size&quot;: 10.0, &quot;color&quot;: &quot;#ff0000&quot;, &quot;opacity&quot;: 0.5}, {&quot;point&quot;: [-0.25, 0.75, -0.25], &quot;size&quot;: 10.0, &quot;color&quot;: &quot;#ff0000&quot;, &quot;opacity&quot;: 0.5}, {&quot;point&quot;: [0.75, -0.25, -0.25], &quot;size&quot;: 10.0, &quot;color&quot;: &quot;#ff0000&quot;, &quot;opacity&quot;: 0.5}, {&quot;point&quot;: [-0.75, 0.25, 0.25], &quot;size&quot;: 10.0, &quot;color&quot;: &quot;#ff0000&quot;, &quot;opacity&quot;: 0.5}, {&quot;point&quot;: [-0.25, -0.25, -0.25], &quot;size&quot;: 10.0, &quot;color&quot;: &quot;#ff0000&quot;, &quot;opacity&quot;: 0.5}, {&quot;point&quot;: [-1.0, 0.0, 1.0], &quot;size&quot;: 10.0, &quot;color&quot;: &quot;#0000ff&quot;, &quot;opacity&quot;: 0.5}, {&quot;point&quot;: [-1.0, 1.0, 0.0], &quot;size&quot;: 10.0, &quot;color&quot;: &quot;#0000ff&quot;, &quot;opacity&quot;: 0.5}, {&quot;point&quot;: [-1.0, 1.0, 1.0], &quot;size&quot;: 10.0, &quot;color&quot;: &quot;#0000ff&quot;, &quot;opacity&quot;: 0.5}, {&quot;point&quot;: [0.0, 0.0, 0.0], &quot;size&quot;: 10.0, &quot;color&quot;: &quot;#0000ff&quot;, &quot;opacity&quot;: 0.5}, {&quot;point&quot;: [0.0, 0.0, 1.0], &quot;size&quot;: 10.0, &quot;color&quot;: &quot;#0000ff&quot;, &quot;opacity&quot;: 0.5}, {&quot;point&quot;: [0.0, 1.0, 0.0], &quot;size&quot;: 10.0, &quot;color&quot;: &quot;#0000ff&quot;, &quot;opacity&quot;: 0.5}];\n",
       "    for ( var i=0 ; i &lt; points.length ; i++ ) addPoint( points[i] );\n",
       "\n",
       "    function addPoint( json ) {\n",
       "\n",
       "        var geometry = new THREE.Geometry();\n",
       "        var v = json.point;\n",
       "        geometry.vertices.push( new THREE.Vector3( a[0]*v[0], a[1]*v[1], a[2]*v[2] ) );\n",
       "\n",
       "        var canvas = document.createElement( &#x27;canvas&#x27; );\n",
       "        canvas.width = 128;\n",
       "        canvas.height = 128;\n",
       "\n",
       "        var context = canvas.getContext( &#x27;2d&#x27; );\n",
       "        context.arc( 64, 64, 64, 0, 2 * Math.PI );\n",
       "        context.fillStyle = json.color;\n",
       "        context.fill();\n",
       "\n",
       "        var texture = new THREE.Texture( canvas );\n",
       "        texture.needsUpdate = true;\n",
       "\n",
       "        var transparent = json.opacity &lt; 1 ? true : false;\n",
       "        var size = camera.isOrthographicCamera ? json.size : json.size/100;\n",
       "        var material = new THREE.PointsMaterial( { size: size, map: texture,\n",
       "                                                   transparent: transparent, opacity: json.opacity,\n",
       "                                                   alphaTest: .1 } );\n",
       "\n",
       "        var c = new THREE.Vector3();\n",
       "        geometry.computeBoundingBox();\n",
       "        geometry.boundingBox.getCenter( c );\n",
       "        geometry.translate( -c.x, -c.y, -c.z );\n",
       "\n",
       "        var mesh = new THREE.Points( geometry, material );\n",
       "        mesh.position.set( c.x, c.y, c.z );\n",
       "        mesh.userData = json;\n",
       "        scene.add( mesh );\n",
       "\n",
       "    }\n",
       "\n",
       "    var lines = [{&quot;points&quot;: [[-0.5, -0.5, 0.5], [0.25, -0.75, 0.25]], &quot;color&quot;: &quot;#ff0000&quot;, &quot;opacity&quot;: 0.5, &quot;linewidth&quot;: 1.0}, {&quot;points&quot;: [[-0.5, -0.5, 0.5], [-0.25, -0.25, 0.75]], &quot;color&quot;: &quot;#ff0000&quot;, &quot;opacity&quot;: 0.5, &quot;linewidth&quot;: 1.0}, {&quot;points&quot;: [[-0.5, -0.5, 0.5], [-0.75, 0.25, 0.25]], &quot;color&quot;: &quot;#ff0000&quot;, &quot;opacity&quot;: 0.5, &quot;linewidth&quot;: 1.0}, {&quot;points&quot;: [[-0.5, -0.5, 0.5], [-0.25, -0.25, -0.25]], &quot;color&quot;: &quot;#ff0000&quot;, &quot;opacity&quot;: 0.5, &quot;linewidth&quot;: 1.0}, {&quot;points&quot;: [[-0.5, 0.5, -0.5], [0.25, 0.25, -0.75]], &quot;color&quot;: &quot;#ff0000&quot;, &quot;opacity&quot;: 0.5, &quot;linewidth&quot;: 1.0}, {&quot;points&quot;: [[-0.5, 0.5, -0.5], [-0.25, 0.75, -0.25]], &quot;color&quot;: &quot;#ff0000&quot;, &quot;opacity&quot;: 0.5, &quot;linewidth&quot;: 1.0}, {&quot;points&quot;: [[-0.5, 0.5, -0.5], [-0.75, 0.25, 0.25]], &quot;color&quot;: &quot;#ff0000&quot;, &quot;opacity&quot;: 0.5, &quot;linewidth&quot;: 1.0}, {&quot;points&quot;: [[-0.5, 0.5, -0.5], [-0.25, -0.25, -0.25]], &quot;color&quot;: &quot;#ff0000&quot;, &quot;opacity&quot;: 0.5, &quot;linewidth&quot;: 1.0}, {&quot;points&quot;: [[0.25, -0.75, 0.25], [0.5, -0.5, -0.5]], &quot;color&quot;: &quot;#ff0000&quot;, &quot;opacity&quot;: 0.5, &quot;linewidth&quot;: 1.0}, {&quot;points&quot;: [[0.25, -0.75, 0.25], [0.5, -0.5, 0.5]], &quot;color&quot;: &quot;#ff0000&quot;, &quot;opacity&quot;: 0.5, &quot;linewidth&quot;: 1.0}, {&quot;points&quot;: [[0.5, -0.5, -0.5], [0.25, 0.25, -0.75]], &quot;color&quot;: &quot;#ff0000&quot;, &quot;opacity&quot;: 0.5, &quot;linewidth&quot;: 1.0}, {&quot;points&quot;: [[0.5, -0.5, -0.5], [0.75, -0.25, -0.25]], &quot;color&quot;: &quot;#ff0000&quot;, &quot;opacity&quot;: 0.5, &quot;linewidth&quot;: 1.0}, {&quot;points&quot;: [[0.5, -0.5, -0.5], [-0.25, -0.25, -0.25]], &quot;color&quot;: &quot;#ff0000&quot;, &quot;opacity&quot;: 0.5, &quot;linewidth&quot;: 1.0}, {&quot;points&quot;: [[0.5, 0.5, -0.5], [0.25, 0.25, -0.75]], &quot;color&quot;: &quot;#ff0000&quot;, &quot;opacity&quot;: 0.5, &quot;linewidth&quot;: 1.0}, {&quot;points&quot;: [[0.5, 0.5, -0.5], [0.25, 0.25, 0.25]], &quot;color&quot;: &quot;#ff0000&quot;, &quot;opacity&quot;: 0.5, &quot;linewidth&quot;: 1.0}, {&quot;points&quot;: [[0.5, 0.5, -0.5], [-0.25, 0.75, -0.25]], &quot;color&quot;: &quot;#ff0000&quot;, &quot;opacity&quot;: 0.5, &quot;linewidth&quot;: 1.0}, {&quot;points&quot;: [[0.5, 0.5, -0.5], [0.75, -0.25, -0.25]], &quot;color&quot;: &quot;#ff0000&quot;, &quot;opacity&quot;: 0.5, &quot;linewidth&quot;: 1.0}, {&quot;points&quot;: [[0.5, -0.5, 0.5], [0.25, 0.25, 0.25]], &quot;color&quot;: &quot;#ff0000&quot;, &quot;opacity&quot;: 0.5, &quot;linewidth&quot;: 1.0}, {&quot;points&quot;: [[0.5, -0.5, 0.5], [-0.25, -0.25, 0.75]], &quot;color&quot;: &quot;#ff0000&quot;, &quot;opacity&quot;: 0.5, &quot;linewidth&quot;: 1.0}, {&quot;points&quot;: [[0.5, -0.5, 0.5], [0.75, -0.25, -0.25]], &quot;color&quot;: &quot;#ff0000&quot;, &quot;opacity&quot;: 0.5, &quot;linewidth&quot;: 1.0}, {&quot;points&quot;: [[0.25, 0.25, 0.25], [-0.5, 0.5, 0.5]], &quot;color&quot;: &quot;#ff0000&quot;, &quot;opacity&quot;: 0.5, &quot;linewidth&quot;: 1.0}, {&quot;points&quot;: [[-0.5, 0.5, 0.5], [-0.25, -0.25, 0.75]], &quot;color&quot;: &quot;#ff0000&quot;, &quot;opacity&quot;: 0.5, &quot;linewidth&quot;: 1.0}, {&quot;points&quot;: [[-0.5, 0.5, 0.5], [-0.25, 0.75, -0.25]], &quot;color&quot;: &quot;#ff0000&quot;, &quot;opacity&quot;: 0.5, &quot;linewidth&quot;: 1.0}, {&quot;points&quot;: [[-0.5, 0.5, 0.5], [-0.75, 0.25, 0.25]], &quot;color&quot;: &quot;#ff0000&quot;, &quot;opacity&quot;: 0.5, &quot;linewidth&quot;: 1.0}, {&quot;points&quot;: [[-1.0, 0.0, 1.0], [-1.0, 1.0, 0.0]], &quot;color&quot;: &quot;#0000ff&quot;, &quot;opacity&quot;: 0.5, &quot;linewidth&quot;: 1.0}, {&quot;points&quot;: [[-1.0, 0.0, 1.0], [-1.0, 1.0, 1.0]], &quot;color&quot;: &quot;#0000ff&quot;, &quot;opacity&quot;: 0.5, &quot;linewidth&quot;: 1.0}, {&quot;points&quot;: [[-1.0, 0.0, 1.0], [0.0, 0.0, 0.0]], &quot;color&quot;: &quot;#0000ff&quot;, &quot;opacity&quot;: 0.5, &quot;linewidth&quot;: 1.0}, {&quot;points&quot;: [[-1.0, 0.0, 1.0], [0.0, 0.0, 1.0]], &quot;color&quot;: &quot;#0000ff&quot;, &quot;opacity&quot;: 0.5, &quot;linewidth&quot;: 1.0}, {&quot;points&quot;: [[-1.0, 1.0, 0.0], [-1.0, 1.0, 1.0]], &quot;color&quot;: &quot;#0000ff&quot;, &quot;opacity&quot;: 0.5, &quot;linewidth&quot;: 1.0}, {&quot;points&quot;: [[-1.0, 1.0, 0.0], [0.0, 0.0, 0.0]], &quot;color&quot;: &quot;#0000ff&quot;, &quot;opacity&quot;: 0.5, &quot;linewidth&quot;: 1.0}, {&quot;points&quot;: [[-1.0, 1.0, 0.0], [0.0, 1.0, 0.0]], &quot;color&quot;: &quot;#0000ff&quot;, &quot;opacity&quot;: 0.5, &quot;linewidth&quot;: 1.0}, {&quot;points&quot;: [[-1.0, 1.0, 1.0], [0.0, 0.0, 1.0]], &quot;color&quot;: &quot;#0000ff&quot;, &quot;opacity&quot;: 0.5, &quot;linewidth&quot;: 1.0}, {&quot;points&quot;: [[-1.0, 1.0, 1.0], [0.0, 1.0, 0.0]], &quot;color&quot;: &quot;#0000ff&quot;, &quot;opacity&quot;: 0.5, &quot;linewidth&quot;: 1.0}, {&quot;points&quot;: [[0.0, 0.0, 0.0], [0.0, 0.0, 1.0]], &quot;color&quot;: &quot;#0000ff&quot;, &quot;opacity&quot;: 0.5, &quot;linewidth&quot;: 1.0}, {&quot;points&quot;: [[0.0, 0.0, 0.0], [0.0, 1.0, 0.0]], &quot;color&quot;: &quot;#0000ff&quot;, &quot;opacity&quot;: 0.5, &quot;linewidth&quot;: 1.0}, {&quot;points&quot;: [[0.0, 0.0, 1.0], [0.0, 1.0, 0.0]], &quot;color&quot;: &quot;#0000ff&quot;, &quot;opacity&quot;: 0.5, &quot;linewidth&quot;: 1.0}];\n",
       "    for ( var i=0 ; i &lt; lines.length ; i++ ) addLine( lines[i] );\n",
       "\n",
       "    function addLine( json ) {\n",
       "\n",
       "        var geometry = new THREE.Geometry();\n",
       "        for ( var i=0 ; i &lt; json.points.length ; i++ ) {\n",
       "            var v = json.points[i];\n",
       "            geometry.vertices.push( new THREE.Vector3( a[0]*v[0], a[1]*v[1], a[2]*v[2] ) );\n",
       "        }\n",
       "\n",
       "        var c = new THREE.Vector3();\n",
       "        geometry.computeBoundingBox();\n",
       "        geometry.boundingBox.getCenter( c );\n",
       "        geometry.translate( -c.x, -c.y, -c.z );\n",
       "\n",
       "        var transparent = json.opacity &lt; 1 ? true : false;\n",
       "        var materialOptions = { color: json.color, linewidth: json.linewidth,\n",
       "                                transparent: transparent, opacity: json.opacity };\n",
       "\n",
       "        var mesh;\n",
       "        if ( json.linewidth &gt; 1 &amp;&amp; window.createFatLineStrip ) {\n",
       "            mesh = createFatLineStrip( geometry, materialOptions );\n",
       "        } else {\n",
       "            var material = new THREE.LineBasicMaterial( materialOptions );\n",
       "            mesh = new THREE.Line( geometry, material );\n",
       "        }\n",
       "\n",
       "        mesh.position.set( c.x, c.y, c.z );\n",
       "        mesh.userData = json;\n",
       "        scene.add( mesh );\n",
       "\n",
       "    }\n",
       "\n",
       "    var surfaces = [{&quot;vertices&quot;: [{&quot;x&quot;: -0.5, &quot;y&quot;: -0.5, &quot;z&quot;: 0.5}, {&quot;x&quot;: -0.5, &quot;y&quot;: 0.5, &quot;z&quot;: -0.5}, {&quot;x&quot;: 0.25, &quot;y&quot;: -0.75, &quot;z&quot;: 0.25}, {&quot;x&quot;: 0.5, &quot;y&quot;: -0.5, &quot;z&quot;: -0.5}, {&quot;x&quot;: 0.5, &quot;y&quot;: 0.5, &quot;z&quot;: -0.5}, {&quot;x&quot;: 0.5, &quot;y&quot;: -0.5, &quot;z&quot;: 0.5}, {&quot;x&quot;: 0.25, &quot;y&quot;: 0.25, &quot;z&quot;: -0.75}, {&quot;x&quot;: 0.25, &quot;y&quot;: 0.25, &quot;z&quot;: 0.25}, {&quot;x&quot;: -0.5, &quot;y&quot;: 0.5, &quot;z&quot;: 0.5}, {&quot;x&quot;: -0.25, &quot;y&quot;: -0.25, &quot;z&quot;: 0.75}, {&quot;x&quot;: -0.25, &quot;y&quot;: 0.75, &quot;z&quot;: -0.25}, {&quot;x&quot;: 0.75, &quot;y&quot;: -0.25, &quot;z&quot;: -0.25}, {&quot;x&quot;: -0.75, &quot;y&quot;: 0.25, &quot;z&quot;: 0.25}, {&quot;x&quot;: -0.25, &quot;y&quot;: -0.25, &quot;z&quot;: -0.25}], &quot;faces&quot;: [[1, 13, 0, 12], [3, 2, 0, 13], [3, 13, 1, 6], [8, 12, 0, 9], [5, 11, 4, 7], [8, 7, 4, 10], [9, 5, 7, 8], [10, 1, 12, 8], [9, 0, 2, 5], [4, 11, 3, 6], [5, 2, 3, 11], [6, 1, 10, 4]], &quot;color&quot;: &quot;#ff0000&quot;, &quot;opacity&quot;: 0.5, &quot;useFlatShading&quot;: true}, {&quot;vertices&quot;: [{&quot;x&quot;: -1.0, &quot;y&quot;: 0.0, &quot;z&quot;: 1.0}, {&quot;x&quot;: -1.0, &quot;y&quot;: 1.0, &quot;z&quot;: 0.0}, {&quot;x&quot;: -1.0, &quot;y&quot;: 1.0, &quot;z&quot;: 1.0}, {&quot;x&quot;: 0.0, &quot;y&quot;: 0.0, &quot;z&quot;: 0.0}, {&quot;x&quot;: 0.0, &quot;y&quot;: 0.0, &quot;z&quot;: 1.0}, {&quot;x&quot;: 0.0, &quot;y&quot;: 1.0, &quot;z&quot;: 0.0}], &quot;faces&quot;: [[4, 0, 3], [3, 0, 1], [1, 0, 2], [2, 0, 4], [5, 2, 4], [4, 3, 5], [3, 1, 5], [5, 1, 2]], &quot;color&quot;: &quot;#0000ff&quot;, &quot;opacity&quot;: 0.5, &quot;useFlatShading&quot;: true}];\n",
       "    for ( var i=0 ; i &lt; surfaces.length ; i++ ) addSurface( surfaces[i] );\n",
       "\n",
       "    function addSurface( json ) {\n",
       "\n",
       "        var useFaceColors = &#x27;faceColors&#x27; in json ? true : false;\n",
       "\n",
       "        var geometry = new THREE.Geometry();\n",
       "        for ( var i=0 ; i &lt; json.vertices.length ; i++ ) {\n",
       "            var v = json.vertices[i];\n",
       "            geometry.vertices.push( new THREE.Vector3( a[0]*v.x, a[1]*v.y, a[2]*v.z ) );\n",
       "        }\n",
       "        for ( var i=0 ; i &lt; json.faces.length ; i++ ) {\n",
       "            var f = json.faces[i];\n",
       "            for ( var j=0 ; j &lt; f.length - 2 ; j++ ) {\n",
       "                var face = new THREE.Face3( f[0], f[j+1], f[j+2] );\n",
       "                if ( useFaceColors ) face.color.set( json.faceColors[i] );\n",
       "                geometry.faces.push( face );\n",
       "            }\n",
       "        }\n",
       "        geometry.computeVertexNormals();\n",
       "\n",
       "        var side = json.singleSide ? THREE.FrontSide : THREE.DoubleSide;\n",
       "        var transparent = json.opacity &lt; 1 ? true : false;\n",
       "        var depthWrite = &#x27;depthWrite&#x27; in json ? json.depthWrite : !transparent;\n",
       "        var flatShading = json.useFlatShading ? json.useFlatShading : false;\n",
       "\n",
       "        var material = new THREE.MeshPhongMaterial( { side: side,\n",
       "                                     color: useFaceColors ? &#x27;white&#x27; : json.color,\n",
       "                                     vertexColors: useFaceColors ? THREE.FaceColors : THREE.NoColors,\n",
       "                                     transparent: transparent, opacity: json.opacity,\n",
       "                                     shininess: 20, flatShading: flatShading,\n",
       "                                     depthWrite: depthWrite } );\n",
       "\n",
       "        var c = new THREE.Vector3();\n",
       "        geometry.computeBoundingBox();\n",
       "        geometry.boundingBox.getCenter( c );\n",
       "        geometry.translate( -c.x, -c.y, -c.z );\n",
       "\n",
       "        var mesh = new THREE.Mesh( geometry, material );\n",
       "        mesh.position.set( c.x, c.y, c.z );\n",
       "        if ( transparent &amp;&amp; json.renderOrder ) mesh.renderOrder = json.renderOrder;\n",
       "        mesh.userData = json;\n",
       "        scene.add( mesh );\n",
       "\n",
       "        if ( json.showMeshGrid ) addSurfaceMeshGrid( json );\n",
       "\n",
       "    }\n",
       "\n",
       "    function addSurfaceMeshGrid( json ) {\n",
       "\n",
       "        var geometry = new THREE.Geometry();\n",
       "\n",
       "        for ( var i=0 ; i &lt; json.faces.length ; i++ ) {\n",
       "            var f = json.faces[i];\n",
       "            for ( var j=0 ; j &lt; f.length ; j++ ) {\n",
       "                var k = j === f.length-1 ? 0 : j+1;\n",
       "                var v1 = json.vertices[f[j]];\n",
       "                var v2 = json.vertices[f[k]];\n",
       "                // vertices in opposite directions on neighboring faces\n",
       "                var nudge = f[j] &lt; f[k] ? .0005*zRange : -.0005*zRange;\n",
       "                geometry.vertices.push( new THREE.Vector3( a[0]*v1.x, a[1]*v1.y, a[2]*(v1.z+nudge) ) );\n",
       "                geometry.vertices.push( new THREE.Vector3( a[0]*v2.x, a[1]*v2.y, a[2]*(v2.z+nudge) ) );\n",
       "            }\n",
       "        }\n",
       "\n",
       "        var c = new THREE.Vector3();\n",
       "        geometry.computeBoundingBox();\n",
       "        geometry.boundingBox.getCenter( c );\n",
       "        geometry.translate( -c.x, -c.y, -c.z );\n",
       "\n",
       "        var gridColor = options.theme === &#x27;dark&#x27; ? &#x27;white&#x27; : &#x27;black&#x27;;\n",
       "        var linewidth = json.linewidth || 1;\n",
       "        var materialOptions = { color: gridColor, linewidth: linewidth };\n",
       "\n",
       "        var mesh;\n",
       "        if ( linewidth &gt; 1 &amp;&amp; window.createFatLineSegments ) {\n",
       "            mesh = createFatLineSegments( geometry, materialOptions );\n",
       "        } else {\n",
       "            var material = new THREE.LineBasicMaterial( materialOptions );\n",
       "            mesh = new THREE.LineSegments( geometry, material );\n",
       "        }\n",
       "\n",
       "        mesh.position.set( c.x, c.y, c.z );\n",
       "        mesh.userData = json;\n",
       "        scene.add( mesh );\n",
       "\n",
       "    }\n",
       "\n",
       "    function render() {\n",
       "\n",
       "        if ( window.updateAnimation ) animate = updateAnimation();\n",
       "        if ( animate ) requestAnimationFrame( render );\n",
       "\n",
       "        renderer.render( scene, camera );\n",
       "\n",
       "    }\n",
       "\n",
       "    render();\n",
       "    controls.update();\n",
       "    if ( !animate ) render();\n",
       "\n",
       "\n",
       "    // menu functions\n",
       "\n",
       "    function toggleMenu() {\n",
       "\n",
       "        var m = document.getElementById( &#x27;menu-content&#x27; );\n",
       "        if ( m.style.display === &#x27;block&#x27; ) m.style.display = &#x27;none&#x27;\n",
       "        else m.style.display = &#x27;block&#x27;;\n",
       "\n",
       "    }\n",
       "\n",
       "\n",
       "    function saveAsPNG() {\n",
       "\n",
       "        var a = document.body.appendChild( document.createElement( &#x27;a&#x27; ) );\n",
       "        a.href = renderer.domElement.toDataURL( &#x27;image/png&#x27; );\n",
       "        a.download = &#x27;screenshot&#x27;;\n",
       "        a.click();\n",
       "\n",
       "    }\n",
       "\n",
       "    function saveAsHTML() {\n",
       "\n",
       "        toggleMenu(); // otherwise visible in output\n",
       "        event.stopPropagation();\n",
       "\n",
       "        var blob = new Blob( [ &#x27;&lt;!DOCTYPE html&gt;\\n&#x27; + document.documentElement.outerHTML ] );\n",
       "        var a = document.body.appendChild( document.createElement( &#x27;a&#x27; ) );\n",
       "        a.href = window.URL.createObjectURL( blob );\n",
       "        a.download = suggestFilename();\n",
       "        a.click();\n",
       "\n",
       "        function suggestFilename() {\n",
       "            if ( !document.title ) {\n",
       "                return &#x27;graphic.html&#x27;;\n",
       "            } else if ( /\\.html?$/i.test( document.title ) ) {\n",
       "                return document.title; // already ends in .htm or .html\n",
       "            } else {\n",
       "                return document.title + &#x27;.html&#x27;;\n",
       "            }\n",
       "        }\n",
       "\n",
       "    }\n",
       "\n",
       "    function getViewpoint() {\n",
       "\n",
       "        function roundTo( x, n ) { return +x.toFixed(n); }\n",
       "\n",
       "        var v = camera.quaternion.inverse();\n",
       "        var r = Math.sqrt( v.x*v.x + v.y*v.y + v.z*v.z );\n",
       "        var axis = [ roundTo( v.x / r, 4 ), roundTo( v.y / r, 4 ), roundTo( v.z / r, 4 ) ];\n",
       "        var angle = roundTo( 2 * Math.atan2( r, v.w ) * 180 / Math.PI, 2 );\n",
       "\n",
       "        var textArea = document.createElement( &#x27;textarea&#x27; );\n",
       "        textArea.textContent = JSON.stringify( axis ) + &#x27;,&#x27; + angle;\n",
       "        textArea.style.csstext = &#x27;position: absolute; top: -100%&#x27;;\n",
       "        document.body.append( textArea );\n",
       "        textArea.select();\n",
       "        document.execCommand( &#x27;copy&#x27; );\n",
       "\n",
       "        var m = document.getElementById( &#x27;menu-message&#x27; );\n",
       "        m.innerHTML = &#x27;Viewpoint copied to clipboard&#x27;;\n",
       "        m.style.display = &#x27;block&#x27;;\n",
       "        setTimeout( function() { m.style.display = &#x27;none&#x27;; }, 2000 );\n",
       "\n",
       "    }\n",
       "\n",
       "    function getCamera() {\n",
       "\n",
       "        function roundTo( x, n ) { return +x.toFixed(n); }\n",
       "\n",
       "        var pos = camera.position;\n",
       "        var pos_r = [ roundTo( pos.x, 4 ), roundTo( pos.y, 4 ), roundTo( pos.z, 4 ) ];\n",
       "   //     var up = camera.up; // up is always (0,0,1)\n",
       "        var textArea = document.createElement(&#x27;textarea&#x27;);\n",
       "        var cam_position = JSON.stringify(pos_r);\n",
       "        textArea.textContent = &#x27;,camera_position=&#x27; + cam_position;\n",
       "        textArea.style.csstext = &#x27;position: absolute; top: -100%&#x27;;\n",
       "        document.body.append( textArea );\n",
       "        textArea.select();\n",
       "        document.execCommand( &#x27;copy&#x27; );\n",
       "\n",
       "        var m = document.getElementById( &#x27;menu-message&#x27; );\n",
       "        m.innerHTML = &#x27;Camera position &#x27;+ cam_position+&#x27; copied to clipboard&#x27;;\n",
       "        m.style.display = &#x27;block&#x27;;\n",
       "        setTimeout( function() { m.style.display = &#x27;none&#x27;; }, 2000 );\n",
       "\n",
       "    }\n",
       "\n",
       "&lt;/script&gt;\n",
       "\n",
       "&lt;div id=&quot;menu-container&quot; onclick=&quot;toggleMenu()&quot;&gt;&amp;#x24d8;\n",
       "&lt;div id=&quot;menu-message&quot;&gt;&lt;/div&gt;\n",
       "&lt;div id=&quot;menu-content&quot;&gt;\n",
       "&lt;div onclick=&quot;saveAsPNG()&quot;&gt;Save as PNG&lt;/div&gt;\n",
       "&lt;div onclick=&quot;saveAsHTML()&quot;&gt;Save as HTML&lt;/div&gt;\n",
       "&lt;div onclick=&quot;getCamera()&quot;&gt;Get camera&lt;/div&gt;\n",
       "&lt;div onclick=&quot;getViewpoint()&quot;&gt;Get viewpoint&lt;/div&gt;\n",
       "&lt;div&gt;Close Menu&lt;/div&gt;\n",
       "&lt;/div&gt;&lt;/div&gt;\n",
       "\n",
       "\n",
       "&lt;/body&gt;\n",
       "&lt;/html&gt;\n",
       "\"\n",
       "        width=\"100%\"\n",
       "        height=\"400\"\n",
       "        style=\"border: 0;\">\n",
       "</iframe>\n"
      ],
      "text/plain": [
       "Graphics3d Object"
      ]
     },
     "metadata": {},
     "output_type": "display_data"
    }
   ],
   "source": [
    "from VoronoiCellToolBox.voronoi_cell import VCell, Delsets\n",
    "import random\n",
    "\n",
    "Q = [[2, 1, 1], [1, 2, 1], [1, 1, 2]]\n",
    "VC = VCell(Q, range=1)\n",
    "D_dict = Delsets(VC, Q, range = 1)\n",
    "vertices = VC.vertices()\n",
    "v = vertices[random.randint(0, len(vertices))]\n",
    "D = D_dict[tuple(v)]\n",
    "\n",
    "plot1 = VC.plot(color='red', opacity=0.5)\n",
    "plot2 = D.plot(color='blue', opacity=0.5)\n",
    "\n",
    "# Combine the plots\n",
    "(plot1 + plot2).show()"
   ]
  },
  {
   "cell_type": "code",
   "execution_count": 16,
   "id": "1039f848-a1b2-426e-a27b-c178eeba1708",
   "metadata": {},
   "outputs": [
    {
     "data": {
      "text/plain": [
       "[(0, 0, 0), (-1, 0, 0), (0, -1, 0), (0, 0, -1)]"
      ]
     },
     "execution_count": 16,
     "metadata": {},
     "output_type": "execute_result"
    }
   ],
   "source": [
    "from VoronoiCellToolBox.voronoi_cell import VCell, Delset\n",
    "import random\n",
    "\n",
    "Q = [[2, 1, 1], [1, 2, 1], [1, 1, 2]]\n",
    "VC = VCell(Q, range=1)\n",
    "vertices = VC.vertices()\n",
    "v = vertices[random.randint(0, len(vertices))]\n",
    "Delset(Q, v, range = 2)#[(0, 0, 0), (-1, 0, 1), (-1, 1, 0), (-1, 1, 1), (0, 0, 1), (0, 1, 0)]"
   ]
  },
  {
   "cell_type": "markdown",
   "id": "b5facc76-e6fe-4b73-b186-4956e8ca0159",
   "metadata": {},
   "source": [
    "The function **FormatPullingTrigMatrix** is used to create a Macaulay2 object that can be used to compute relevant polynomials."
   ]
  },
  {
   "cell_type": "code",
   "execution_count": 1,
   "id": "6a7c0346-7a39-4698-b706-187402a31f6e",
   "metadata": {},
   "outputs": [
    {
     "name": "stderr",
     "output_type": "stream",
     "text": [
      "/home/penegas/projects/research/VoronoiCellToolBox/VoronoiCellToolBox/voronoi_cell.py:94: SyntaxWarning: invalid escape sequence '\\g'\n",
      "  \"\"\"\n"
     ]
    },
    {
     "data": {
      "text/plain": [
       "'{{matrix{{1, 0}, {1, 1}},matrix{{0, -1}, {-1, -1}},matrix{{0, 1}, {-1, 0}}},{matrix{{1, 0}, {1, 1}},\\n matrix{{0, 1}, {-1, 0}},matrix{{1, 1}, {1, 0}}},{matrix{{1, 0}, {1, 1}},matrix{{-1, -1}, {-1, 0}},matrix{\\n {0, -1}, {-1, -1}}},{matrix{{1, 0}, {1, 1}},matrix{{-1, -1}, {-1, 0}},matrix{{0, -1}, {1, 0}}}}'"
      ]
     },
     "execution_count": 1,
     "metadata": {},
     "output_type": "execute_result"
    }
   ],
   "source": [
    "from VoronoiCellToolBox.macaulay_parsing import FormatPullingTrigMatrix\n",
    "\n",
    "Q = [[2, -1], [-1, 2]]\n",
    "FormatPullingTrigMatrix(Q)"
   ]
  },
  {
   "cell_type": "markdown",
   "id": "a365b47e-1f6e-4c97-9fac-85a2ce87ecb6",
   "metadata": {},
   "source": [
    "With this string we can use the orchestration part of the package to generate Macaulay output"
   ]
  }
 ],
 "metadata": {
  "kernelspec": {
   "display_name": "SageMath 10.6",
   "language": "sage",
   "name": "sagemath"
  },
  "language_info": {
   "codemirror_mode": {
    "name": "ipython",
    "version": 3
   },
   "file_extension": ".py",
   "mimetype": "text/x-python",
   "name": "python",
   "nbconvert_exporter": "python",
   "pygments_lexer": "ipython3",
   "version": "3.12.5"
  }
 },
 "nbformat": 4,
 "nbformat_minor": 5
}
