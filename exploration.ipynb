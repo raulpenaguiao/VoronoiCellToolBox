{
 "cells": [
  {
   "cell_type": "markdown",
   "id": "d3eabcc7-6d6c-4e7a-a7aa-9683b18aec4d",
   "metadata": {},
   "source": [
    "We use the package to define the Voronoi cell of a specific lattice given by the matrix M"
   ]
  },
  {
   "cell_type": "code",
   "execution_count": 3,
   "id": "7e8e044c-4b60-4f14-a8aa-f1d1ab2c8a17",
   "metadata": {},
   "outputs": [
    {
     "data": {
      "image/png": "[encoded data removed]",
      "text/plain": [
       "A 2-dimensional polyhedron in QQ^2 defined as the convex hull of 6 vertices"
      ]
     },
     "execution_count": 3,
     "metadata": {},
     "output_type": "execute_result"
    }
   ],
   "source": [
    "from VoronoiCellToolBox.voronoi_cell import VCell\n",
    "VCell([[2, -1], [-1, 2]], range=2)"
   ]
  },
  {
   "cell_type": "markdown",
   "id": "5ab6ca10-a375-431e-93ec-cab158f57364",
   "metadata": {},
   "source": [
    "In this cell we test the function pos"
   ]
  },
  {
   "cell_type": "code",
   "execution_count": 4,
   "id": "741495b3-930a-4a56-bf94-11766e7c43db",
   "metadata": {},
   "outputs": [
    {
     "name": "stdout",
     "output_type": "stream",
     "text": [
      "pos(0, 1, 3) =  1\n",
      "pos(1, 2, 3) =  4\n",
      "pos(2, 2, 3) =  5\n"
     ]
    }
   ],
   "source": [
    "from VoronoiCellToolBox.voronoi_cell import FromMatrixPositionToListPosition\n",
    "print(\"FromMatrixPositionToListPosition(0, 1, 3) = \", pos(0, 1, 3))  # Returns 1\n",
    "print(\"FromMatrixPositionToListPosition(1, 2, 3) = \", pos(1, 2, 3))  # Returns 4\n",
    "print(\"FromMatrixPositionToListPosition(2, 2, 3) = \", pos(2, 2, 3))  # Returns 5"
   ]
  },
  {
   "cell_type": "markdown",
   "id": "f33c3be2-1fc0-4344-ac88-a68aaa8ccd09",
   "metadata": {},
   "source": [
    "Here we test the function `matrixify`\n",
    "Converts a list of upper triangular entries into a $d \\times d$ matrix."
   ]
  },
  {
   "cell_type": "code",
   "execution_count": 5,
   "id": "88ea410c-5684-4e04-a757-465c6ad041e3",
   "metadata": {},
   "outputs": [
    {
     "name": "stdout",
     "output_type": "stream",
     "text": [
      "matrixify([3, 1, 5, 3, -1, 2], 3) =  [[3, 1, 5], [1, 3, -1], [5, -1, 2]]\n"
     ]
    }
   ],
   "source": [
    "from VoronoiCellToolBox.voronoi_cell import pos, matrixify\n",
    "print(\"matrixify([3, 1, 5, 3, -1, 2], 3) = \", matrixify([3, 1, 5, 3, -1, 2], 3))\n"
   ]
  },
  {
   "cell_type": "markdown",
   "id": "926f9bb3-93e6-42e3-b44d-7360a2f47e16",
   "metadata": {},
   "source": [
    "The following function finds the linear inequality that a matrix must satisfy in order for a particular potential relevant vector nonRelevantVectors to not be relevant due to the conditions imposed by the list of relevant vectors neighborVectors \n",
    "\n",
    "Computes the equation of the wall in the secondary cone."
   ]
  },
  {
   "cell_type": "code",
   "execution_count": 6,
   "id": "91170aee-4258-4fe3-9e0c-41f7302b4743",
   "metadata": {},
   "outputs": [
    {
     "data": {
      "text/plain": [
       "[2, 2, 2, 0, 0, 0]"
      ]
     },
     "execution_count": 6,
     "metadata": {},
     "output_type": "execute_result"
    }
   ],
   "source": [
    "from VoronoiCellToolBox.voronoi_cell import eq_of_wall\n",
    "rvecs = [(0, 1, 1), (1, 1, 1), (0, 0, 1)]\n",
    "nrvec = [-1, 0, 0]\n",
    "eq_of_wall(rvecs, nrvec, 3, False)"
   ]
  },
  {
   "cell_type": "markdown",
   "id": "83191b50-5649-4eee-bfdc-222710ef1167",
   "metadata": {},
   "source": [
    "The function reduce makes sure the Rational structures on our vectors are regularly updated to clear large denominators, bringing about an increase in performance"
   ]
  },
  {
   "cell_type": "code",
   "execution_count": 7,
   "id": "2f52f3e2-d3d4-47fb-8d53-1dfb7179cf0e",
   "metadata": {},
   "outputs": [
    {
     "data": {
      "text/plain": [
       "(155, 16, 1560)"
      ]
     },
     "execution_count": 7,
     "metadata": {},
     "output_type": "execute_result"
    }
   ],
   "source": [
    "from VoronoiCellToolBox.voronoi_cell import lcmReduce\n",
    "v = [31,3.2, 312]\n",
    "lcmReduce([Rational(int(round(vi*10**9)),int(10**9)) for vi in v])"
   ]
  },
  {
   "cell_type": "markdown",
   "id": "22771662-0482-4085-9451-dd9d9fd54342",
   "metadata": {},
   "source": [
    "The function gcdReduce makes sure the Integer structures on our vectors are regularly updated to clear large denominators, bringing about an increase in performance"
   ]
  },
  {
   "cell_type": "code",
   "execution_count": 8,
   "id": "02632eac-78a9-4f62-9bf6-b02bc5c4974e",
   "metadata": {},
   "outputs": [
    {
     "data": {
      "text/plain": [
       "[6, 12, 17]"
      ]
     },
     "execution_count": 8,
     "metadata": {},
     "output_type": "execute_result"
    }
   ],
   "source": [
    "from VoronoiCellToolBox.voronoi_cell import gcdReduce\n",
    "gcdReduce([12, 24, 34])"
   ]
  },
  {
   "cell_type": "markdown",
   "id": "ff36b959-7f4c-4bc2-bfb3-e1af5869027d",
   "metadata": {},
   "source": [
    "The function gcd and GCD_list implement the Euclidean algorithm to compute the greatest common divisor of two integers or a list of integers\n"
   ]
  },
  {
   "cell_type": "code",
   "execution_count": 9,
   "id": "b1e91d0c-5991-4bbc-bef7-7a13c51e08f4",
   "metadata": {},
   "outputs": [
    {
     "name": "stdout",
     "output_type": "stream",
     "text": [
      "gcd(48, 18) =  6\n",
      "GCD_list([102, 304, 54, 80]) =  2\n"
     ]
    }
   ],
   "source": [
    "from VoronoiCellToolBox.voronoi_cell import gcd, GCD_list\n",
    "print(\"gcd(48, 18) = \", gcd(48, 18))\n",
    "print(\"GCD_list([102, 304, 54, 80]) = \", GCD_list([102, 304, 54, 80]))"
   ]
  },
  {
   "cell_type": "markdown",
   "id": "9990c430-33d0-4f92-8fa3-a78270f37556",
   "metadata": {},
   "source": [
    "For a facet F of the voronoi cell V, this function computes the corresponding relevant vector."
   ]
  },
  {
   "cell_type": "code",
   "execution_count": 10,
   "id": "695ebb48-9512-4943-880a-89ccfb2f5eda",
   "metadata": {},
   "outputs": [
    {
     "name": "stdout",
     "output_type": "stream",
     "text": [
      "(A vertex at (-1/3, -2/3), A vertex at (1/3, -1/3))  -  (0, -1)\n",
      "(A vertex at (2/3, 1/3), A vertex at (1/3, 2/3))  -  (1, 1)\n",
      "(A vertex at (1/3, 2/3), A vertex at (-1/3, 1/3))  -  (0, 1)\n",
      "(A vertex at (2/3, 1/3), A vertex at (1/3, -1/3))  -  (1, 0)\n",
      "(A vertex at (-1/3, -2/3), A vertex at (-2/3, -1/3))  -  (-1, -1)\n",
      "(A vertex at (-1/3, 1/3), A vertex at (-2/3, -1/3))  -  (-1, 0)\n"
     ]
    }
   ],
   "source": [
    "from VoronoiCellToolBox.voronoi_cell import relevant_vector, VCell\n",
    "#The following code prints the relevant vectors of each facet for d = 2\n",
    "Q = [[2, -1], [-1, 2]]\n",
    "VC = VCell(Q, range = 2)\n",
    "list_facets = VC.facets()\n",
    "for F in list_facets:\n",
    "    print(F.vertices(), \" - \", relevant_vector(Q, F))"
   ]
  },
  {
   "cell_type": "markdown",
   "id": "387a5e6d",
   "metadata": {},
   "source": [
    "For a metric matrix $Q$ we can compute the norm of any vector in $Z^d$ with the function $Qnorm(v, Q) = v^T Q v$."
   ]
  },
  {
   "cell_type": "code",
   "execution_count": 12,
   "id": "21a9d2c8",
   "metadata": {},
   "outputs": [
    {
     "data": {
      "text/plain": [
       "5"
      ]
     },
     "execution_count": 12,
     "metadata": {},
     "output_type": "execute_result"
    }
   ],
   "source": [
    "from VoronoiCellToolBox.voronoi_cell import Qnorm\n",
    "Qnorm([1, 2], [[1, 0], [0, 1]]) #Returns 10"
   ]
  },
  {
   "cell_type": "markdown",
   "id": "6b2728d5-3fc6-47db-80f0-578b4d12e242",
   "metadata": {},
   "source": [
    "For a metric matrix $Q$ we can compute the point that is equidistant to a collection of other points"
   ]
  },
  {
   "cell_type": "code",
   "execution_count": 2,
   "id": "5bb26851-e82d-47f9-a669-c201c1a13b75",
   "metadata": {},
   "outputs": [
    {
     "data": {
      "text/plain": [
       "(1, 1)"
      ]
     },
     "execution_count": 2,
     "metadata": {},
     "output_type": "execute_result"
    }
   ],
   "source": [
    "from VoronoiCellToolBox.voronoi_cell import equidistantPoint\n",
    "equidistantPoint([vector([1, 0]), vector([0, 1])], Matrix([[2, -1], [-1, 2]])) #Returns [1, 1]"
   ]
  },
  {
   "cell_type": "markdown",
   "id": "61fd564d-d6ab-4337-8b65-0840870fcb1e",
   "metadata": {},
   "source": [
    "Computes a dictionary, exposing the relevant vectors associated with each vertex of P.\n",
    "relevantVectorDictionary(P, Q)For each vertex v, the relevant vector relative to each facet incident to v is computed."
   ]
  },
  {
   "cell_type": "code",
   "execution_count": 4,
   "id": "122463af-5ca1-4a98-a065-bdf42841ec66",
   "metadata": {},
   "outputs": [
    {
     "data": {
      "text/plain": [
       "24"
      ]
     },
     "execution_count": 4,
     "metadata": {},
     "output_type": "execute_result"
    }
   ],
   "source": [
    "from VoronoiCellToolBox.voronoi_cell import VCell, relevantVectorDictionary\n",
    "\n",
    "Q = [[3, -1, -1], [-1, 3, -1], [-1, -1, 3]]\n",
    "P = VCell(Q, range = 2)\n",
    "len(relevantVectorDictionary(P, Q))# Returns 24"
   ]
  },
  {
   "cell_type": "markdown",
   "id": "28b58c47-0e22-4f0c-82fc-dd629b66e99a",
   "metadata": {},
   "source": [
    "The function secondary_cone computes a Polyhedron type object that describes all matrices Q' whose Voronoi cell has the same relevant vector structure as Q "
   ]
  },
  {
   "cell_type": "code",
   "execution_count": 10,
   "id": "f1d3e2f8-4bdd-4092-8691-2b7a4364cac0",
   "metadata": {},
   "outputs": [
    {
     "data": {
      "text/plain": [
       "[(1, -1, 0, 1, 0, 0),\n",
       " (1, 0, -1, 0, 0, 1),\n",
       " (0, 0, 0, 1, -1, 1),\n",
       " (0, 0, 0, 0, 0, 1),\n",
       " (0, 0, 0, 1, 0, 0),\n",
       " (1, 0, 0, 0, 0, 0)]"
      ]
     },
     "execution_count": 10,
     "metadata": {},
     "output_type": "execute_result"
    }
   ],
   "source": [
    "from VoronoiCellToolBox.voronoi_cell import secondary_cone, rayify\n",
    "import itertools\n",
    "Q = [[3, -1, -1], [-1, 3, -1], [-1, -1, 3]]\n",
    "prv = [list(vec) for vec in itertools.product(range(-2, 3), repeat=3)]\n",
    "prv.remove([0] * 3)\n",
    "SC = secondary_cone(Q, range = 2)\n",
    "rayify(SC)"
   ]
  },
  {
   "cell_type": "markdown",
   "id": "9bf8f094-6c7d-41d0-aaab-3370bdafc98c",
   "metadata": {},
   "source": [
    "We also implement the pulling triangulation here"
   ]
  },
  {
   "cell_type": "code",
   "execution_count": 14,
   "id": "d7f9cbfa-b1bf-424e-9f29-8160caf18195",
   "metadata": {},
   "outputs": [
    {
     "data": {
      "text/plain": [
       "34"
      ]
     },
     "execution_count": 14,
     "metadata": {},
     "output_type": "execute_result"
    }
   ],
   "source": [
    "from VoronoiCellToolBox.voronoi_cell import VCell, pulling_triangulation\n",
    "Q = [[3, -1, -1], [-1, 3, -1], [-1, -1, 3]]\n",
    "P = VCell(Q, range=2)\n",
    "len(pulling_triangulation(P))"
   ]
  },
  {
   "cell_type": "markdown",
   "id": "f57e3ebb-3b1c-4ac9-a310-63a698f7dc0e",
   "metadata": {},
   "source": [
    "The pulling triangulation will be handed off to Macaulay2 in order to compute the second moment polynomial expression with respect to the entries of $Q$"
   ]
  }
 ],
 "metadata": {
  "kernelspec": {
   "display_name": "SageMath 10.6",
   "language": "sage",
   "name": "sagemath"
  },
  "language_info": {
   "codemirror_mode": {
    "name": "ipython",
    "version": 3
   },
   "file_extension": ".py",
   "mimetype": "text/x-python",
   "name": "python",
   "nbconvert_exporter": "python",
   "pygments_lexer": "ipython3",
   "version": "3.12.5"
  }
 },
 "nbformat": 4,
 "nbformat_minor": 5
}
